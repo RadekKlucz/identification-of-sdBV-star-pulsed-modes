{
 "cells": [
  {
   "cell_type": "code",
   "execution_count": null,
   "metadata": {},
   "outputs": [],
   "source": [
    "from comands import *\n",
    "import load as ld\n",
    "import matplotlib.pyplot as plt\n",
    "from matplotlib import collections  as mc"
   ]
  },
  {
   "cell_type": "code",
   "execution_count": null,
   "metadata": {},
   "outputs": [],
   "source": [
    "ld.LoadAndFind.__doc__ #dokumentacja klasy "
   ]
  },
  {
   "cell_type": "markdown",
   "metadata": {},
   "source": [
    "# Check system "
   ]
  },
  {
   "cell_type": "code",
   "execution_count": null,
   "metadata": {},
   "outputs": [],
   "source": [
    "Check_system()"
   ]
  },
  {
   "cell_type": "markdown",
   "metadata": {},
   "source": [
    "# Fourier transformation "
   ]
  },
  {
   "cell_type": "code",
   "execution_count": null,
   "metadata": {},
   "outputs": [],
   "source": [
    "Fourier_transformation(' ./data/sdB93.dane') #calculate ft "
   ]
  },
  {
   "cell_type": "code",
   "execution_count": null,
   "metadata": {},
   "outputs": [],
   "source": [
    "noise = Calculate_the_noise_level() # calculate noise by 4 sigma. If you want change the value You mast go to comands file \n",
    "noise "
   ]
  },
  {
   "cell_type": "code",
   "execution_count": null,
   "metadata": {},
   "outputs": [],
   "source": [
    "noise = 0.03709325"
   ]
  },
  {
   "cell_type": "markdown",
   "metadata": {},
   "source": [
    "# Loading data "
   ]
  },
  {
   "cell_type": "code",
   "execution_count": null,
   "metadata": {},
   "outputs": [],
   "source": [
    "Load = ld.LoadAndFind() # it is example how to laod data with module "
   ]
  },
  {
   "cell_type": "code",
   "execution_count": null,
   "metadata": {},
   "outputs": [],
   "source": [
    "Load.peaks_periods"
   ]
  },
  {
   "cell_type": "markdown",
   "metadata": {},
   "source": [
    "# Plotting data "
   ]
  },
  {
   "cell_type": "code",
   "execution_count": null,
   "metadata": {},
   "outputs": [],
   "source": [
    "#This generates an ipywidget that renders plots in a control. Multiple plots and zooming are supported\n",
    "%matplotlib widget"
   ]
  },
  {
   "cell_type": "markdown",
   "metadata": {},
   "source": [
    "## Plotting chart with variable level noise"
   ]
  },
  {
   "cell_type": "code",
   "execution_count": null,
   "metadata": {},
   "outputs": [],
   "source": [
    "Split = ld.SplitData()"
   ]
  },
  {
   "cell_type": "code",
   "execution_count": null,
   "metadata": {},
   "outputs": [],
   "source": [
    "figure_0 = plt.figure(figsize=(10, 10))\n",
    "axis_0 = figure_0.subplots()\n",
    "axis_0.set(xlabel='Frequencies [c/d]', ylabel='Amplitude [ppt]')\n",
    "lc = mc.LineCollection(Split.lines, colors='red', linewidths=2)\n",
    "axis_0.add_collection(lc)\n",
    "axis_0.autoscale()\n",
    "axis_0.grid()\n",
    "axis_0.plot(Load.frequencies, Load.ppt, zorder=-10)\n",
    "plt.savefig('transformat_fourier_frequencies_with_noise.eps', format='eps')\n"
   ]
  },
  {
   "cell_type": "markdown",
   "metadata": {},
   "source": [
    "## Plotting chart with one level noise \n"
   ]
  },
  {
   "cell_type": "code",
   "execution_count": null,
   "metadata": {},
   "outputs": [],
   "source": [
    "figure_1 = plt.figure(figsize=(10, 10)) #plotting maxima in frequencies\n",
    "axis_1 = figure_1.subplots()\n",
    "axis_1.plot(Load.frequencies, Load.ppt, color='red')\n",
    "axis_1.scatter(Load.peak_position, Load.height, color='g', s=10, marker='D', label='Identified signal')\n",
    "axis_1.axhline(y=noise, color='blue', linestyle='-', linewidth=1.5)\n",
    "axis_1.legend()\n",
    "axis_1.grid()"
   ]
  },
  {
   "cell_type": "markdown",
   "metadata": {},
   "source": [
    "##  Plotting maxima in periods"
   ]
  },
  {
   "cell_type": "code",
   "execution_count": null,
   "metadata": {},
   "outputs": [],
   "source": [
    "figure_2 = plt.figure() #plotting maxima in periods\n",
    "axis_2 = figure_2.subplots()\n",
    "axis_2.plot(Load.periods[-575000:], Load.ppt[-575000:], color='red')\n",
    "axis_2.scatter(Load.peaks_periods[2:], Load.height[2:], color ='green', s =10, marker ='D', label ='Identified signal')\n",
    "axis_2.set(xlabel='Periods [s]', ylabel='Amplitude [ppt]')\n",
    "axis_2.legend()\n",
    "axis_2.grid()\n",
    "plt.savefig('identified_signal_in_period.eps', format='eps')"
   ]
  },
  {
   "cell_type": "markdown",
   "metadata": {},
   "source": [
    "## Plotting histogram to all data "
   ]
  },
  {
   "cell_type": "code",
   "execution_count": null,
   "metadata": {},
   "outputs": [],
   "source": [
    "Histograms = ld.DistanceAndHistograms()"
   ]
  },
  {
   "cell_type": "code",
   "execution_count": null,
   "metadata": {},
   "outputs": [],
   "source": [
    "limiting_data = Histograms.limiting(20, 600) #load limiting data to histiogram for 20 sice 600 distance \n",
    "limiting_data"
   ]
  },
  {
   "cell_type": "code",
   "execution_count": null,
   "metadata": {},
   "outputs": [],
   "source": [
    "figure_3 = plt.figure(figsize=(10, 10))\n",
    "axis_3 = figure_3.subplots()\n",
    "axis_3.hist(limiting_data, bins=50, alpha=0.7, facecolor='green')\n",
    "axis_3.set_xlabel('Period spacing')\n",
    "axis_3.set_ylabel('Number of occurreuces')\n",
    "axis_3.grid()\n",
    "plt.savefig('histogram_to_all_data.eps', format='eps')"
   ]
  },
  {
   "cell_type": "markdown",
   "metadata": {},
   "source": [
    "## Potting histograms to $l_2$ (140 seconds distanse)"
   ]
  },
  {
   "cell_type": "code",
   "execution_count": null,
   "metadata": {},
   "outputs": [],
   "source": [
    "limiting_data_1 = Histograms.limiting(100, 300)"
   ]
  },
  {
   "cell_type": "code",
   "execution_count": null,
   "metadata": {},
   "outputs": [],
   "source": [
    "xfit_1 = Histograms.fitting_gauss(limiting_data_1, start_interval=0.03, end_interval=0.5, start_point_fit=120, end_point_fit=190)[0]\n",
    "yfit_1 = Histograms.fitting_gauss(limiting_data_1, start_interval=0.03, end_interval=0.5, start_point_fit=120, end_point_fit=190)[1]\n",
    "x0_1 = Histograms.fitting_gauss(limiting_data_1, start_interval=0.03, end_interval=0.5, start_point_fit=120, end_point_fit=190)[2]\n",
    "sigma_1 = Histograms.fitting_gauss(limiting_data_1, start_interval=0.03, end_interval=0.5, start_point_fit=120, end_point_fit=190)[3]\n",
    "\n",
    "#matching parameters"
   ]
  },
  {
   "cell_type": "code",
   "execution_count": null,
   "metadata": {},
   "outputs": [],
   "source": [
    "x0_1, sigma_1"
   ]
  },
  {
   "cell_type": "code",
   "execution_count": null,
   "metadata": {},
   "outputs": [],
   "source": [
    "figure_4 = plt.figure(figsize=(10, 10)) #plotting result\n",
    "axis_4 = figure_4.subplots()\n",
    "axis_4.hist(limiting_data_1, bins=50, density=1, alpha=0.7, facecolor='green')\n",
    "axis_4.plot(xfit_1, yfit_1, color='blue')\n",
    "axis_4.set(xlabel='Period spacing', ylabel='Number of occurreuces', title=None)\n",
    "axis_4.grid()\n",
    "axis_4.legend(labels=['Gauss function', 'Data'])\n",
    "plt.savefig('histogram_l2_gauss.eps', format='eps')"
   ]
  },
  {
   "cell_type": "markdown",
   "metadata": {},
   "source": [
    "## Potting histograms to $l_1$ (250 seconds distanse)"
   ]
  },
  {
   "cell_type": "code",
   "execution_count": null,
   "metadata": {},
   "outputs": [],
   "source": [
    "limiting_data_2 = Histograms.limiting(200, 350)"
   ]
  },
  {
   "cell_type": "code",
   "execution_count": null,
   "metadata": {},
   "outputs": [],
   "source": [
    "xfit_2 = Histograms.fitting_gauss(limiting_data_2, start_interval=0.2, end_interval=0.7, start_point_fit=240, end_point_fit=300)[0]\n",
    "yfit_2 = Histograms.fitting_gauss(limiting_data_2, start_interval=0.2, end_interval=0.7, start_point_fit=240, end_point_fit=300)[1]\n",
    "x0_2 = Histograms.fitting_gauss(limiting_data_2, start_interval=0.2, end_interval=0.7, start_point_fit=240, end_point_fit=300)[2]\n",
    "sigma_2 = Histograms.fitting_gauss(limiting_data_2, start_interval=0.2, end_interval=0.7, start_point_fit=240, end_point_fit=300)[3]\n",
    "\n",
    "#matching parameters"
   ]
  },
  {
   "cell_type": "code",
   "execution_count": null,
   "metadata": {},
   "outputs": [],
   "source": [
    "x0_2, sigma_2"
   ]
  },
  {
   "cell_type": "code",
   "execution_count": null,
   "metadata": {},
   "outputs": [],
   "source": [
    "figure_5 = plt.figure(figsize=(10, 10)) #plotting result\n",
    "axis_5 = figure_5.subplots()\n",
    "axis_5.hist(limiting_data_2, bins=50, density=1, alpha=0.7, facecolor='green')\n",
    "axis_5.plot(xfit_2, yfit_2, color='blue')\n",
    "axis_5.set(xlabel='Period spacing', ylabel='Number of occurreuces', title=None)\n",
    "axis_5.grid()\n",
    "axis_5.legend(labels=['Gauss function', 'Data'])\n",
    "plt.savefig('histogram_l1_gauss.eps', format='eps')"
   ]
  },
  {
   "cell_type": "markdown",
   "metadata": {},
   "source": [
    "## Potting histograms to $l_3$ if exist (80 seconds distanse)"
   ]
  },
  {
   "cell_type": "code",
   "execution_count": null,
   "metadata": {},
   "outputs": [],
   "source": [
    "limiting_data_3 = Histograms.limiting(50, 100)"
   ]
  },
  {
   "cell_type": "code",
   "execution_count": null,
   "metadata": {},
   "outputs": [],
   "source": [
    "xfit_3 = Histograms.fitting_gauss(limiting_data_3, start_interval=0.1, end_interval=0.7, start_point_fit=70, end_point_fit=85, bins=15)[0]\n",
    "yfit_3 = Histograms.fitting_gauss(limiting_data_3, start_interval=0.1, end_interval=0.7, start_point_fit=70, end_point_fit=85, bins=15)[1]\n",
    "x0_3 = Histograms.fitting_gauss(limiting_data_3, start_interval=0.1, end_interval=0.7, start_point_fit=70, end_point_fit=85, bins=15)[2]\n",
    "sigma_3 = Histograms.fitting_gauss(limiting_data_3, start_interval=0.1, end_interval=0.7, start_point_fit=70, end_point_fit=85, bins=15)[3]\n",
    "\n",
    "##matching parameters"
   ]
  },
  {
   "cell_type": "code",
   "execution_count": null,
   "metadata": {},
   "outputs": [],
   "source": [
    "x0_3, sigma_3"
   ]
  },
  {
   "cell_type": "code",
   "execution_count": null,
   "metadata": {},
   "outputs": [],
   "source": [
    "figure_6 = plt.figure(figsize=(10, 10)) #plotting result\n",
    "axis_6 = figure_6.subplots()\n",
    "axis_6.hist(limiting_data_3, bins=15, density=1, alpha=0.7, facecolor='green')\n",
    "axis_6.plot(xfit_3, yfit_3, color='blue')\n",
    "axis_6.set(xlabel='Period spacing', ylabel='Number of occurreuces', title=None)\n",
    "axis_6.grid()\n",
    "axis_6.legend(labels=['Gauss function', 'Data'])\n",
    "axis_6.set_xlim([65, 90])\n",
    "plt.savefig('histogram_l3_gauss.eps', format='eps')"
   ]
  },
  {
   "cell_type": "markdown",
   "metadata": {},
   "source": [
    "# Assigning the values of $l_1$, $l_2$ and $l_3$ to the individual peaks"
   ]
  },
  {
   "cell_type": "code",
   "execution_count": null,
   "metadata": {},
   "outputs": [],
   "source": [
    "lista = ld.Mods(x0_1, sigma_1, x0_2, sigma_2, x0_3, sigma_3, Load.peaks_periods)\n",
    "lista\n"
   ]
  },
  {
   "cell_type": "code",
   "execution_count": null,
   "metadata": {},
   "outputs": [],
   "source": [
    "type(lista)"
   ]
  },
  {
   "cell_type": "code",
   "execution_count": null,
   "metadata": {},
   "outputs": [],
   "source": [
    "l_1 = lista.loc[lambda lista: lista[3] == '1 ']\n",
    "L_1 = list(l_1[1])\n",
    "l_2 = lista.loc[lambda lista: lista[3] == '2 ']"
   ]
  },
  {
   "cell_type": "code",
   "execution_count": null,
   "metadata": {},
   "outputs": [],
   "source": []
  },
  {
   "cell_type": "code",
   "execution_count": null,
   "metadata": {},
   "outputs": [],
   "source": [
    "len(l_2)"
   ]
  },
  {
   "cell_type": "code",
   "execution_count": null,
   "metadata": {},
   "outputs": [],
   "source": [
    "figure_2 = plt.figure() #plotting axis x form data in periods\n",
    "ax1 = figure_2.subplots()\n",
    "\n",
    "\n",
    "el1x= l_2[1]\n",
    "#el1y=[0.25] * len(el1x)\n",
    "el1x_do_petli = el1x[0]\n",
    "el1x_do1 = []\n",
    "el1y = []\n",
    "\n",
    "for i in range(64):\n",
    "    el1x_do1.append((3645.617326 - 5 * 272.62)+ i * 272.62)\n",
    "    el1y.append(0.25)\n",
    "\n",
    "el2x= l_1[1]\n",
    "# el2y=[0.22] * len(el2x)\n",
    "el2y = []\n",
    "el2x_do_petli = 5022.27539 - 18 * 151.92\n",
    "el2x_do1 = []\n",
    "\n",
    "for i in range(56):\n",
    "    el2x_do1.append(el2x_do_petli + i * 151.92)\n",
    "    el2y.append(0.22)\n",
    "\n",
    "el3x = [6327.057121, 6326.45094, 6325.773764, 6247.705573]\n",
    "el3y = [0.20] * 4\n",
    "\n",
    "ax1.scatter(el1x_do1,el1y, marker='.', color='blue', label='Mode $\\ell_1$')\n",
    "ax1.scatter(el2x_do1,el2y, marker='.', color='green', label='Mode $\\ell_2$')\n",
    "ax1.scatter(el3x,el3y, marker='.', color='violet', label='Mode $\\ell_3$')\n",
    "ax1.plot(Load.periods[-590000:], Load.ppt[-590000:], label='Fourier Transform', color='red')\n",
    "ax1.axhline(y=noise, color='blue', linestyle='-', linewidth=1.5)\n",
    "ax1.set_xlim([2000, 8000])\n",
    "\n",
    "\n",
    "ax1.grid()\n",
    "ax1.set_xlabel(\"Periods [s]\")\n",
    "ax1.set_ylabel(\"Amplitude [ppt]\")\n",
    "ax1.legend()\n",
    "#plt.xlim([0, 7500])\n",
    "plt.savefig('ehhhhh.eps', format='eps')\n",
    "plt.show()"
   ]
  },
  {
   "cell_type": "markdown",
   "metadata": {},
   "source": [
    "# Corfirmation of correct designation "
   ]
  },
  {
   "cell_type": "code",
   "execution_count": null,
   "metadata": {},
   "outputs": [],
   "source": [
    "Confirm = ld.Confirm()"
   ]
  },
  {
   "cell_type": "code",
   "execution_count": null,
   "metadata": {},
   "outputs": [],
   "source": [
    "load_data = Confirm.run_fourier_transformation()"
   ]
  },
  {
   "cell_type": "code",
   "execution_count": null,
   "metadata": {},
   "outputs": [],
   "source": [
    "figure_7 = plt.figure(figsize=(9, 7)) #plotting axis x form data in periods\n",
    "axis_7 = figure_7.subplots()\n",
    "# axis_7.set_ylim(0,0.009)\n",
    "axis_7.set_xlim(0, 0.014)\n",
    "axis_7.axvline(x=1 / 140, color='b', linestyle='-', linewidth=1, label = '$\\sigma_{1}$')\n",
    "axis_7.axvline(x=1 / 270, color='g', linestyle='-', linewidth=1, label = '$\\sigma_{2}$')\n",
    "# axis_7.axvline(x=1 / 102.8, color='orange', linestyle='-', linewidth=1, label = '$\\sigma_{3b}$')\n",
    "axis_7.set_xlabel('Fourier transform from seconds dependent amplitude spectrum for frequency [s]')\n",
    "axis_7.set_ylabel('Amplitude [ppt]')\n",
    "axis_7.legend()\n",
    "axis_7.grid()\n",
    "axis_7.plot(load_data[0],load_data[1], color='red')\n",
    "plt.savefig('2nd_ft.eps', format='eps')"
   ]
  },
  {
   "cell_type": "markdown",
   "metadata": {},
   "source": [
    "# Converting data into other units"
   ]
  },
  {
   "cell_type": "code",
   "execution_count": 1,
   "metadata": {},
   "outputs": [],
   "source": [
    "import matplotlib.pyplot as plt  \n",
    "import pandas as pd\n",
    "import numpy as np"
   ]
  },
  {
   "cell_type": "code",
   "execution_count": 2,
   "metadata": {},
   "outputs": [],
   "source": [
    "dane = pd.read_csv('./data/sdB93.dane', sep='\\s+', header=None)\n",
    "czas = dane[0]\n",
    "natezenie = dane[1]"
   ]
  },
  {
   "cell_type": "code",
   "execution_count": null,
   "metadata": {},
   "outputs": [],
   "source": [
    "import numpy as np\n",
    "rand = np.random.default_rng(42)\n",
    "t = 100 * rand.random(100)\n",
    "y = np.sin(2 * np.pi * t) + 0.1 * rand.standard_normal(100)"
   ]
  },
  {
   "cell_type": "code",
   "execution_count": 3,
   "metadata": {},
   "outputs": [],
   "source": [
    "%matplotlib widget"
   ]
  },
  {
   "cell_type": "code",
   "execution_count": 10,
   "metadata": {},
   "outputs": [],
   "source": [
    "from astropy.timeseries import LombScargle\n",
    "\n",
    "frequency, power = LombScargle(czas, natezenie, normalization='standard').autopower(minimum_frequency=0, maximum_frequency=50)"
   ]
  },
  {
   "cell_type": "code",
   "execution_count": null,
   "metadata": {},
   "outputs": [],
   "source": [
    "len(frequency)"
   ]
  },
  {
   "cell_type": "code",
   "execution_count": 18,
   "metadata": {},
   "outputs": [],
   "source": [
    "power_1 = np.sqrt(power[1:] / 0.0263683484161726)\n",
    "norm = np.linalg.norm(power_1)\n",
    "normal_array = power_1 / norm"
   ]
  },
  {
   "cell_type": "code",
   "execution_count": 22,
   "metadata": {},
   "outputs": [
    {
     "data": {
      "text/plain": [
       "1.2025684090586422e-05"
      ]
     },
     "execution_count": 22,
     "metadata": {},
     "output_type": "execute_result"
    }
   ],
   "source": [
    "max(power)\n",
    "min(power_1)"
   ]
  },
  {
   "cell_type": "code",
   "execution_count": 20,
   "metadata": {},
   "outputs": [
    {
     "data": {
      "application/vnd.jupyter.widget-view+json": {
       "model_id": "93ab2976af414749bd45315a0873126f",
       "version_major": 2,
       "version_minor": 0
      },
      "image/png": "[encoded data removed]",
      "text/html": [
       "\n",
       "            <div style=\"display: inline-block;\">\n",
       "                <div class=\"jupyter-widgets widget-label\" style=\"text-align: center;\">\n",
       "                    Figure 1\n",
       "                </div>\n",
       "                <img src='data:image/png;base64,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' width=640.0/>\n",
       "            </div>\n",
       "        "
      ],
      "text/plain": [
       "Canvas(toolbar=Toolbar(toolitems=[('Home', 'Reset original view', 'home', 'home'), ('Back', 'Back to previous …"
      ]
     },
     "metadata": {},
     "output_type": "display_data"
    }
   ],
   "source": [
    "plt.clf()\n",
    "plt.plot(frequency[1:], power_1)\n",
    "plt.show()"
   ]
  }
 ],
 "metadata": {
  "kernelspec": {
   "display_name": "Python 3.10.2 64-bit",
   "language": "python",
   "name": "python3"
  },
  "language_info": {
   "codemirror_mode": {
    "name": "ipython",
    "version": 3
   },
   "file_extension": ".py",
   "mimetype": "text/x-python",
   "name": "python",
   "nbconvert_exporter": "python",
   "pygments_lexer": "ipython3",
   "version": "3.10.2"
  },
  "orig_nbformat": 4,
  "vscode": {
   "interpreter": {
    "hash": "8c3d4d9970fc5c09c50d9318a9c7fbf4d0159e4b28833276f5678ee22bded273"
   }
  }
 },
 "nbformat": 4,
 "nbformat_minor": 2
}
